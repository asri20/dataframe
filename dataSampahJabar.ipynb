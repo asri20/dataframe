{
 "cells": [
  {
   "cell_type": "code",
   "execution_count": null,
   "metadata": {},
   "outputs": [],
   "source": [
    "import pandas as pd\n",
    "file_name = 'disperkim.csv'\n",
    "df = pd.read_csv(file_name)\n",
    "print(df)\n"
   ]
  },
  {
   "cell_type": "code",
   "execution_count": null,
   "metadata": {},
   "outputs": [],
   "source": [
    "\t\t\n",
    "file_path = \"disperkim.csv\"  \n",
    "data = pd.read_csv(file_path)\n",
    "\n",
    "df = data[['nama_kabupaten_kota', 'jumlah_produksi_sampah', 'tahun']].rename(\n",
    "    columns={\n",
    "        'nama_kabupaten_kota': 'Kabupaten_Kota',\n",
    "        'jumlah_produksi_sampah': 'Produksi_Ton',\n",
    "        'tahun': 'Tahun'\n",
    "    }\n",
    ")\n",
    "print(df.head())"
   ]
  },
  {
   "cell_type": "code",
   "execution_count": null,
   "metadata": {},
   "outputs": [],
   "source": [
    "# 2.\"Dari DataFrame yang telah dibuat, hitunglah total produksi sampah di seluruh Kabupaten/Kota\n",
    "#  di Jawa Barat untuk tahun tertentu. Tampilkan hasilnya.\"\t\n",
    "import pandas as pd\n",
    "\n",
    "df = pd.read_csv(\"disperkim.csv\")\n",
    "df.columns = df.columns.str.strip()\n",
    "# Tentukan tahun tertentu\n",
    "tahun_tertentu = 2020\n",
    "df[\"jumlah_produksi_sampah\"] = pd.to_numeric(df[\"jumlah_produksi_sampah\"], errors='coerce')\n",
    "# Menggunakan loc untuk memilih data tahun tertentu dan menghitung total produksi sampah\n",
    "total_sampah_tahun_tertentu = df.loc[df[\"tahun\"] == tahun_tertentu, \"jumlah_produksi_sampah\"].sum()\n",
    "print(total_sampah_tahun_tertentu)"
   ]
  },
  {
   "cell_type": "code",
   "execution_count": null,
   "metadata": {},
   "outputs": [],
   "source": [
    "#3.Jumlahkan Data Pertahun\n",
    "total_per_year = {}\n",
    "for _, row in df.iterrows():\n",
    "    tahun = row[\"tahun\"]  \n",
    "    sampah = row[\"jumlah_produksi_sampah\"]\n",
    "    if tahun in total_per_year:\n",
    "        total_per_year[tahun] += sampah if pd.notnull(sampah) else 0 \n",
    "    else:\n",
    "        total_per_year[tahun] = sampah if pd.notnull(sampah) else 0\n",
    "\n",
    "# Menampilkan hasil perhitungan\n",
    "print(\"Total produksi sampah per tahun:\")\n",
    "for tahun, total in total_per_year.items():\n",
    "    print(f\"Tahun {tahun}: {total:.2f} ton\")\n"
   ]
  },
  {
   "cell_type": "code",
   "execution_count": null,
   "metadata": {},
   "outputs": [],
   "source": [
    "import pandas as pd\n",
    "\n",
    "produksi_per_kota_tahun = {}\n",
    "for _, row in df.iterrows():\n",
    "    kota = row['nama_kabupaten_kota']  \n",
    "    tahun = row['tahun']  \n",
    "    produksi = row['jumlah_produksi_sampah']  \n",
    "    key = (kota, tahun)\n",
    "    if key in produksi_per_kota_tahun:\n",
    "        produksi_per_kota_tahun[key] += produksi\n",
    "    else:\n",
    "        produksi_per_kota_tahun[key] = produksi\n",
    "\n",
    "# Konversi hasil ke DataFrame\n",
    "df_produksi_per_kota_tahun = pd.DataFrame([\n",
    "    {\"Kabupaten_Kota\": kota, \"Tahun\": tahun, \"Produksi_Ton\": total}\n",
    "    for (kota, tahun), total in produksi_per_kota_tahun.items()\n",
    "])\n",
    "\n",
    "print(\"\\nTotal produksi sampah per Kabupaten/Kota per tahun:\")\n",
    "print(df_produksi_per_kota_tahun)"
   ]
  },
  {
   "cell_type": "code",
   "execution_count": null,
   "metadata": {},
   "outputs": [],
   "source": [
    "# 5. Ekspor hasil akhir menjadi CSV dan Excel\n",
    "df_produksi_per_kota_tahun.to_csv(\"produksi_per_kota_tahun.csv\", index=False)\n",
    "df_produksi_per_kota_tahun.to_excel(\"produksi_per_kota_tahun.xlsx\", index=False)\n",
    "\n",
    "print(\"\\nHasil telah diekspor ke 'produksi_per_kota_tahun.csv' dan 'produksi_per_kota_tahun.xlsx'.\")"
   ]
  }
 ],
 "metadata": {
  "kernelspec": {
   "display_name": "Python 3",
   "language": "python",
   "name": "python3"
  },
  "language_info": {
   "codemirror_mode": {
    "name": "ipython",
    "version": 3
   },
   "file_extension": ".py",
   "mimetype": "text/x-python",
   "name": "python",
   "nbconvert_exporter": "python",
   "pygments_lexer": "ipython3",
   "version": "3.12.4"
  }
 },
 "nbformat": 4,
 "nbformat_minor": 2
}
